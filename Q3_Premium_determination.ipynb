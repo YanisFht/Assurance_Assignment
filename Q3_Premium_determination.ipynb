{
  "nbformat": 4,
  "nbformat_minor": 0,
  "metadata": {
    "colab": {
      "provenance": []
    },
    "kernelspec": {
      "name": "python3",
      "display_name": "Python 3"
    },
    "language_info": {
      "name": "python"
    }
  },
  "cells": [
    {
      "cell_type": "markdown",
      "source": [
        "## Q3 : premium determination"
      ],
      "metadata": {
        "id": "nuDrtMcqNi5B"
      }
    },
    {
      "cell_type": "code",
      "execution_count": null,
      "metadata": {
        "id": "qB_wL25bNh3o"
      },
      "outputs": [],
      "source": [
        "expected_loss_per_group = {\n",
        "    'very low_risk': 1,\n",
        "    'low_risk': 2,\n",
        "    'medium_risk': 3,\n",
        "    'high_risk': 4\n",
        "}\n",
        "\n",
        "std_dev_loss_per_group = {\n",
        "    'very low_risk': 1,\n",
        "    'low_risk': 2,\n",
        "    'medium_risk': 3,\n",
        "    'high_risk' : 4\n",
        "}\n",
        "\n",
        "#Rajoute un coût administratif?\n",
        "\n",
        "z_value = norm.ppf(0.995)  # Z = 2.576\n",
        "\n",
        "# Total loss\n",
        "total_expected_loss = sum(expected_loss_per_group.values())\n",
        "total_std_dev_loss = np.sqrt(sum(std_dev ** 2 for std_dev in std_dev_loss_per_group.values()))\n",
        "\n",
        "solvency_margin = z_value * total_std_dev_loss\n",
        "\n",
        "# Total premium\n",
        "total_premium = (total_expected_loss + solvency_margin)\n",
        "\n",
        "premiums_per_group = {}\n",
        "for group, expected_loss in expected_loss_per_group.items():\n",
        "    proportion = expected_loss / total_expected_loss\n",
        "    premiums_per_group[group] = proportion * total_premium\n",
        "\n",
        "print(\"Calculated Premiums for Each Risk Group:\")\n",
        "for group, premium in premiums_per_group.items():\n",
        "    print(f\"{group}: ${premium:.2f}\")\n"
      ]
    }
  ]
}